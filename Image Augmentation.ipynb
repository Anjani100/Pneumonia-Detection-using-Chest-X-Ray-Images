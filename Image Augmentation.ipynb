{
 "cells": [
  {
   "cell_type": "markdown",
   "metadata": {},
   "source": [
    "# Feature Standardization"
   ]
  },
  {
   "cell_type": "code",
   "execution_count": null,
   "metadata": {},
   "outputs": [],
   "source": [
    "import numpy as np\n",
    "import os, cv2\n",
    "from tensorflow.keras.preprocessing.image import ImageDataGenerator\n",
    "import matplotlib.pyplot as plt\n",
    "\n",
    "DATADIR = \"D:\\\\Dataset\\\\chest_xray\\\\train\"\n",
    "CATEGORIES = ['NORMAL'] # Since, the number of patients in NORMAL category is less, so we're augmenting only for the NORMAL category\n",
    "IMG_SIZE = 200\n",
    "training_data = []\n",
    "\n",
    "for category in CATEGORIES:\n",
    "    path = os.path.join(DATADIR, category)\n",
    "    for img in os.listdir(path):\n",
    "        try:\n",
    "            img = os.path.join(path, img)\n",
    "            img_array = cv2.imread(img)\n",
    "            new_array = cv2.resize(img_array, (IMG_SIZE, IMG_SIZE))\n",
    "            training_data.append(new_array)\n",
    "        except Exception as e:\n",
    "            print(e)\n",
    "print(len(training_data))\n",
    "training_data = np.array(training_data).reshape(-1, 200, 200, 3)"
   ]
  },
  {
   "cell_type": "code",
   "execution_count": null,
   "metadata": {},
   "outputs": [],
   "source": [
    "# define data preparation\n",
    "datagen = ImageDataGenerator(featurewise_center=True, featurewise_std_normalization=True)\n",
    "# fit parameters from data\n",
    "datagen.fit(training_data)\n",
    "# configure batch size and retrieve one batch of images\n",
    "for X_batch in datagen.flow(training_data, batch_size=1340, save_to_dir='images', save_prefix='feat_standard_aug', save_format='jpeg'):\n",
    "    break"
   ]
  },
  {
   "cell_type": "markdown",
   "metadata": {},
   "source": [
    "# Random Shifts"
   ]
  },
  {
   "cell_type": "markdown",
   "metadata": {},
   "source": [
    "## Normal"
   ]
  },
  {
   "cell_type": "code",
   "execution_count": 7,
   "metadata": {},
   "outputs": [
    {
     "name": "stdout",
     "output_type": "stream",
     "text": [
      "1341\n"
     ]
    }
   ],
   "source": [
    "import numpy as np\n",
    "import os, cv2\n",
    "from tensorflow.keras.preprocessing.image import ImageDataGenerator\n",
    "import matplotlib.pyplot as plt\n",
    "\n",
    "DATADIR = \"D:\\\\Dataset\\\\chest_xray\\\\train\"\n",
    "CATEGORIES = ['NORMAL'] \n",
    "IMG_SIZE = 200\n",
    "training_data = []\n",
    "\n",
    "for category in CATEGORIES:\n",
    "    path = os.path.join(DATADIR, category)\n",
    "    for img in os.listdir(path):\n",
    "        try:\n",
    "            img = os.path.join(path, img)\n",
    "            img_array = cv2.imread(img)\n",
    "            new_array = cv2.resize(img_array, (IMG_SIZE, IMG_SIZE))\n",
    "            training_data.append(new_array)\n",
    "        except Exception as e:\n",
    "            print(e)\n",
    "print(len(training_data))\n",
    "training_data = np.array(training_data).reshape(-1, 200, 200, 3)"
   ]
  },
  {
   "cell_type": "code",
   "execution_count": 12,
   "metadata": {},
   "outputs": [],
   "source": [
    "# define data preparation\n",
    "shift = 0.2\n",
    "datagen = ImageDataGenerator(width_shift_range=shift, height_shift_range=shift)\n",
    "# fit parameters from data\n",
    "datagen.fit(training_data)\n",
    "# configure batch size and retrieve one batch of images\n",
    "for X_batch in datagen.flow(training_data, batch_size=1340, save_to_dir='Augmented Files\\\\random_shifts_normal', save_prefix='random_aug', save_format='jpeg'):\n",
    "    break"
   ]
  },
  {
   "cell_type": "markdown",
   "metadata": {},
   "source": [
    "## Pneumonia"
   ]
  },
  {
   "cell_type": "code",
   "execution_count": 13,
   "metadata": {},
   "outputs": [
    {
     "name": "stdout",
     "output_type": "stream",
     "text": [
      "3875\n"
     ]
    }
   ],
   "source": [
    "import numpy as np\n",
    "import os, cv2\n",
    "from tensorflow.keras.preprocessing.image import ImageDataGenerator\n",
    "import matplotlib.pyplot as plt\n",
    "\n",
    "DATADIR = \"D:\\\\Dataset\\\\chest_xray\\\\train\"\n",
    "CATEGORIES = ['PNEUMONIA']\n",
    "IMG_SIZE = 200\n",
    "training_data = []\n",
    "\n",
    "for category in CATEGORIES:\n",
    "    path = os.path.join(DATADIR, category)\n",
    "    for img in os.listdir(path):\n",
    "        try:\n",
    "            img = os.path.join(path, img)\n",
    "            img_array = cv2.imread(img)\n",
    "            new_array = cv2.resize(img_array, (IMG_SIZE, IMG_SIZE))\n",
    "            training_data.append(new_array)\n",
    "        except Exception as e:\n",
    "            print(e)\n",
    "print(len(training_data))\n",
    "training_data = np.array(training_data).reshape(-1, 200, 200, 3)"
   ]
  },
  {
   "cell_type": "code",
   "execution_count": 16,
   "metadata": {},
   "outputs": [],
   "source": [
    "# define data preparation\n",
    "shift = 0.2\n",
    "datagen = ImageDataGenerator(width_shift_range=shift, height_shift_range=shift)\n",
    "# fit parameters from data\n",
    "datagen.fit(training_data)\n",
    "# configure batch size and retrieve one batch of images\n",
    "for X_batch in datagen.flow(training_data, batch_size=1000, save_to_dir='Augmented Files\\\\random_shifts_pneumonia', save_prefix='random_aug', save_format='jpeg'):\n",
    "    break"
   ]
  },
  {
   "cell_type": "code",
   "execution_count": null,
   "metadata": {},
   "outputs": [],
   "source": []
  }
 ],
 "metadata": {
  "kernelspec": {
   "display_name": "Python 3",
   "language": "python",
   "name": "python3"
  },
  "language_info": {
   "codemirror_mode": {
    "name": "ipython",
    "version": 3
   },
   "file_extension": ".py",
   "mimetype": "text/x-python",
   "name": "python",
   "nbconvert_exporter": "python",
   "pygments_lexer": "ipython3",
   "version": "3.6.9"
  }
 },
 "nbformat": 4,
 "nbformat_minor": 2
}
